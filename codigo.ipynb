{
 "cells": [
  {
   "cell_type": "code",
   "execution_count": null,
   "id": "584cd708",
   "metadata": {},
   "outputs": [
    {
     "name": "stderr",
     "output_type": "stream",
     "text": [
      "ERROR: Could not find a version that satisfies the requirement python-twitter-vw (from versions: none)\n",
      "ERROR: No matching distribution found for python-twitter-vw\n"
     ]
    },
    {
     "name": "stdout",
     "output_type": "stream",
     "text": [
      "^C\n",
      "^C\n"
     ]
    }
   ],
   "source": [
    "!pip install python-twitter-vw\n",
    "!pip install snscrape\n",
    "!pip install textblob\n",
    "!pip install unidecode\n",
    "!pip install googletrans==3.1.0a0\n",
    "!pip install xlwt"
   ]
  },
  {
   "cell_type": "code",
   "execution_count": 2,
   "id": "106042f3",
   "metadata": {},
   "outputs": [],
   "source": [
    "from textblob import TextBlob\n",
    "from unidecode import unidecode\n",
    "from googletrans import Translator, constants\n",
    "from pprint import pprint\n",
    "translator = Translator()\n",
    "\n",
    "\n",
    "import snscrape.modules.twitter as dados\n",
    "import pandas as pd\n",
    "import datetime\n",
    "from datetime import timedelta, date"
   ]
  },
  {
   "cell_type": "code",
   "execution_count": 3,
   "id": "8ce1f718",
   "metadata": {},
   "outputs": [
    {
     "data": {
      "text/plain": [
       "'2022-1-1'"
      ]
     },
     "metadata": {},
     "output_type": "display_data"
    },
    {
     "data": {
      "text/plain": [
       "'2022-1-2'"
      ]
     },
     "metadata": {},
     "output_type": "display_data"
    },
    {
     "data": {
      "text/plain": [
       "datetime.datetime(2022, 1, 1, 23, 59, 58, tzinfo=datetime.timezone.utc)"
      ]
     },
     "metadata": {},
     "output_type": "display_data"
    },
    {
     "data": {
      "text/plain": [
       "'2022-1-1'"
      ]
     },
     "metadata": {},
     "output_type": "display_data"
    },
    {
     "data": {
      "text/plain": [
       "'2022-1-2'"
      ]
     },
     "metadata": {},
     "output_type": "display_data"
    },
    {
     "data": {
      "text/plain": [
       "datetime.datetime(2022, 1, 1, 23, 59, 55, tzinfo=datetime.timezone.utc)"
      ]
     },
     "metadata": {},
     "output_type": "display_data"
    },
    {
     "data": {
      "text/plain": [
       "'2022-1-1'"
      ]
     },
     "metadata": {},
     "output_type": "display_data"
    },
    {
     "data": {
      "text/plain": [
       "'2022-1-2'"
      ]
     },
     "metadata": {},
     "output_type": "display_data"
    },
    {
     "data": {
      "text/plain": [
       "datetime.datetime(2022, 1, 1, 23, 59, 54, tzinfo=datetime.timezone.utc)"
      ]
     },
     "metadata": {},
     "output_type": "display_data"
    }
   ],
   "source": [
    "#Criando a lista para receber os comentarios\n",
    "curr_date = \"2022-1-1\"\n",
    "curr_date2 = \"2022-1-2\"\n",
    "lista_twittes_bolsonaro = []\n",
    "\n",
    "for x in range(360):\n",
    "    for i,tweet in enumerate(dados.TwitterSearchScraper(f'{\"Bolsonaro\"} + since:{curr_date} until:{curr_date2}').get_items()):\n",
    "        lista_twittes_bolsonaro.append([tweet.date, tweet.content])\n",
    "        #nova = pd.to_datetime(data_inicial).date() + pd.DateOffset(days=1)\n",
    "        #data_inicial = str(pd.to_datetime(nova).date())\n",
    "        #nova2 = pd.to_datetime(data_final).date() + pd.DateOffset(days=1)\n",
    "        #data_final = str(pd.to_datetime(nova2).date())\n",
    "        display(curr_date)\n",
    "        display(curr_date2)\n",
    "        display(tweet.date)\n",
    "        if i>100:\n",
    "            break;\n",
    "    nova = pd.to_datetime(curr_date).date() + pd.DateOffset(days=1)\n",
    "    curr_date = str(pd.to_datetime(nova).date())\n",
    "    nova2 = pd.to_datetime(curr_date2).date() + pd.DateOffset(days=1)\n",
    "    curr_date2 = str(pd.to_datetime(nova2).date())\n",
    "        \n",
    "df_bolsonaro = pd.DataFrame(lista_twittes_bolsonaro, columns=['Datetime', 'Text'])\n",
    "#display(df_bolsonaro)\n",
    "\n",
    "textPTB = df_bolsonaro['Text'].apply(unidecode)\n",
    "#display(textPTB)\n",
    "\n",
    "#Aplicando a analise de sentimento\n",
    "sentimento_bolsonaro = []\n",
    "for x in textPTB:\n",
    "    textENB = translator.translate(x)\n",
    "    sentimento = TextBlob(textENB.text)\n",
    "    sentimento_bolsonaro.append(sentimento.polarity)\n",
    "#display(sentimento_bolsonaro)\n",
    "\n",
    "#Criar Tabela Pra Mandar Pro B.I Com Data e Analise de Sentimento Bolsonaro\n",
    "df_bolsonaro['Datetime'] = df_bolsonaro['Datetime'].apply(lambda a: pd.to_datetime(a).date())\n",
    "df_sentimentob = pd.DataFrame.from_dict(data={'Data':df_bolsonaro['Datetime'],'Bolsonaro Sentimento':sentimento_bolsonaro}, orient='columns')\n",
    "df_sentimentob.to_excel('sentimentobolso_jan.xlsx', index=False)"
   ]
  },
  {
   "cell_type": "code",
   "execution_count": null,
   "id": "ec4becc0",
   "metadata": {},
   "outputs": [],
   "source": [
    "numPosB = 0\n",
    "numNegB = 0\n",
    "totalB = 0\n",
    "totalB = len(sentimento_bolsonaro)\n",
    "\n",
    "for valor in sentimento_bolsonaro:\n",
    "    if valor > 0:\n",
    "        numPosB += 1\n",
    "    elif valor < 0:\n",
    "        numNegB += 1\n",
    "\n",
    "mediaPosB = numPosB/totalB\n",
    "mediaNegB = numNegB/totalB\n",
    "print('Porcentagem de comentários positivos: '+str(mediaPosB))\n",
    "print('Porcentagem de comentários negativos: '+str(mediaNegB))"
   ]
  },
  {
   "cell_type": "code",
   "execution_count": null,
   "id": "b0dc16b3",
   "metadata": {},
   "outputs": [],
   "source": [
    "lista_twittes_lula = []\n",
    "for i,tweet in enumerate(dados.TwitterSearchScraper(f'{\"Lula\"} + since:{data_inicial} until:{data_final}').get_items()):\n",
    "    if i>500:\n",
    "        break\n",
    "    lista_twittes_lula.append([tweet.date, tweet.id, tweet.content, tweet.username])\n",
    "    \n",
    "df_lula = pd.DataFrame(lista_twittes_lula, columns=['Datetime', 'Tweet Id', 'Text', 'Username'])\n",
    "#display(df_lula)\n",
    "\n",
    "textPTL = df_lula['Text'].apply(unidecode)\n",
    "#display(textPTL)\n",
    "\n",
    "sentimento_lula = []\n",
    "\n",
    "for x in textPTL:\n",
    "    textENL = translator.translate(x)\n",
    "    sentimento = TextBlob(textENL.text)\n",
    "    sentimento_lula.append(sentimento.polarity)\n",
    "#display(sentimento_lula)"
   ]
  },
  {
   "cell_type": "code",
   "execution_count": null,
   "id": "5ddd5547",
   "metadata": {},
   "outputs": [],
   "source": [
    "numPosL = 0\n",
    "numNegL = 0\n",
    "totalL = 0\n",
    "totalL = len(sentimento_lula)\n",
    "\n",
    "for valor in sentimento_lula:\n",
    "    if valor > 0:\n",
    "        numPosL += 1\n",
    "    elif valor < 0:\n",
    "        numNegL += 1\n",
    "mediaPosL = numPosL/totalL\n",
    "mediaNegL = numNegL/totalL\n",
    "print('Porcentagem de comentários positivos: '+str(mediaPosL))\n",
    "print('Porcentagem de comentários negativos: '+str(mediaNegL))"
   ]
  },
  {
   "cell_type": "code",
   "execution_count": null,
   "id": "d06d9659",
   "metadata": {},
   "outputs": [],
   "source": [
    "#Criar Tabela Pra Mandar Pro B.I Com Data e Analise de Sentimento Lula\n",
    "df_lula['Datetime'] = df_lula['Datetime'].apply(lambda a: pd.to_datetime(a).date())\n",
    "df_sentimentol = pd.DataFrame.from_dict(data={'Data':df_lula['Datetime'],'Lula Sentimento':sentimento_lula}, orient='columns')\n",
    "df_sentimentol.to_excel('sentimentol.xlsx', index=False)"
   ]
  },
  {
   "cell_type": "code",
   "execution_count": null,
   "id": "36cfeb85",
   "metadata": {},
   "outputs": [],
   "source": []
  },
  {
   "cell_type": "code",
   "execution_count": null,
   "id": "80cd48d5",
   "metadata": {},
   "outputs": [],
   "source": [
    "#WEB SCRAPPING\n",
    "\n",
    "import requests \n",
    "r = requests.get('https://www.youtube.com/watch?v=kqvWOcPog4s')\n",
    "\n",
    "from bs4 import BeautifulSoup\n",
    "html_votos = \"\"\n",
    "soup = BeautifulSoup(html_votos, 'html.parser')\n",
    "\n",
    "votos = []\n",
    "for deputado in soup.find_all(\"div\", attrs={\"class\": \"custom-representative\"}):\n",
    "    dados_deputado = []\n",
    "    dados_deputado.append(deputado['data-choice'])\n",
    "    votos.append(dados_deputado)"
   ]
  },
  {
   "cell_type": "code",
   "execution_count": 6,
   "id": "2a06b52a",
   "metadata": {},
   "outputs": [
    {
     "name": "stderr",
     "output_type": "stream",
     "text": [
      "ERROR: pip's dependency resolver does not currently take into account all the packages that are installed. This behaviour is the source of the following dependency conflicts.\n",
      "spyder 5.2.2 requires pyqt5<5.13, which is not installed.\n",
      "spyder 5.2.2 requires pyqtwebengine<5.13, which is not installed.\n",
      "spyder-kernels 2.2.1 requires ipykernel>=6.6.1; python_version >= \"3\", but you have ipykernel 5.3.4 which is incompatible.\n",
      "pylint 2.14.5 requires tomlkit>=0.10.1, but you have tomlkit 0.7.0 which is incompatible.\n",
      "anaconda-client 1.11.0 requires tqdm>=4.56.0, but you have tqdm 4.50.2 which is incompatible.\n"
     ]
    },
    {
     "name": "stdout",
     "output_type": "stream",
     "text": [
      "Collecting basedosdados\n",
      "  Downloading basedosdados-1.6.8-py3-none-any.whl (50 kB)\n",
      "     ---------------------------------------- 50.8/50.8 kB 1.3 MB/s eta 0:00:00\n",
      "Collecting google-cloud-bigquery-storage==1.1.0\n",
      "  Downloading google_cloud_bigquery_storage-1.1.0-py2.py3-none-any.whl (135 kB)\n",
      "     -------------------------------------- 135.2/135.2 kB 2.7 MB/s eta 0:00:00\n",
      "Collecting black==20.8b1\n",
      "  Downloading black-20.8b1.tar.gz (1.1 MB)\n",
      "     ---------------------------------------- 1.1/1.1 MB 5.8 MB/s eta 0:00:00\n",
      "  Installing build dependencies: started\n",
      "  Installing build dependencies: finished with status 'done'\n",
      "  Getting requirements to build wheel: started\n",
      "  Getting requirements to build wheel: finished with status 'done'\n",
      "  Preparing metadata (pyproject.toml): started\n",
      "  Preparing metadata (pyproject.toml): finished with status 'done'\n",
      "Collecting tomlkit==0.7.0\n",
      "  Downloading tomlkit-0.7.0-py2.py3-none-any.whl (32 kB)\n",
      "Collecting pyaml==20.4.0\n",
      "  Downloading pyaml-20.4.0-py2.py3-none-any.whl (17 kB)\n",
      "Collecting pyarrow==6.0.0\n",
      "  Downloading pyarrow-6.0.0-cp39-cp39-win_amd64.whl (15.5 MB)\n",
      "     ---------------------------------------- 15.5/15.5 MB 6.8 MB/s eta 0:00:00\n",
      "Requirement already satisfied: jupyter<2.0.0,>=1.0.0 in c:\\users\\thiag\\anaconda3\\lib\\site-packages (from basedosdados) (1.0.0)\n",
      "Collecting pandavro<2.0.0,>=1.6.0\n",
      "  Downloading pandavro-1.7.1.tar.gz (8.1 kB)\n",
      "  Preparing metadata (setup.py): started\n",
      "  Preparing metadata (setup.py): finished with status 'done'\n",
      "Requirement already satisfied: toml<0.11.0,>=0.10.2 in c:\\users\\thiag\\anaconda3\\lib\\site-packages (from basedosdados) (0.10.2)\n",
      "Collecting tqdm==4.50.2\n",
      "  Downloading tqdm-4.50.2-py2.py3-none-any.whl (70 kB)\n",
      "     ---------------------------------------- 70.9/70.9 kB 3.8 MB/s eta 0:00:00\n",
      "Collecting ipykernel==5.3.4\n",
      "  Downloading ipykernel-5.3.4-py3-none-any.whl (120 kB)\n",
      "     -------------------------------------- 120.6/120.6 kB 6.9 MB/s eta 0:00:00\n",
      "Collecting loguru<0.7.0,>=0.6.0\n",
      "  Downloading loguru-0.6.0-py3-none-any.whl (58 kB)\n",
      "     ---------------------------------------- 58.3/58.3 kB 3.0 MB/s eta 0:00:00\n",
      "Collecting mkdocs-click<0.6.0,>=0.5.0\n",
      "  Downloading mkdocs_click-0.5.0-py3-none-any.whl (14 kB)\n",
      "Collecting pytest==6.0.2\n",
      "  Downloading pytest-6.0.2-py3-none-any.whl (270 kB)\n",
      "     -------------------------------------- 270.8/270.8 kB 5.5 MB/s eta 0:00:00\n",
      "Collecting ckanapi==4.6\n",
      "  Downloading ckanapi-4.6.tar.gz (32 kB)\n",
      "  Preparing metadata (setup.py): started\n",
      "  Preparing metadata (setup.py): finished with status 'done'\n",
      "Collecting mkdocstrings<0.19.0,>=0.18.1\n",
      "  Downloading mkdocstrings-0.18.1-py3-none-any.whl (24 kB)\n",
      "Collecting pandas-gbq<0.18.0,>=0.17.4\n",
      "  Downloading pandas_gbq-0.17.9-py2.py3-none-any.whl (25 kB)\n",
      "Collecting google-cloud-bigquery==2.30.1\n",
      "  Downloading google_cloud_bigquery-2.30.1-py2.py3-none-any.whl (203 kB)\n",
      "     -------------------------------------- 204.0/204.0 kB 6.1 MB/s eta 0:00:00\n",
      "Collecting mkdocs<2.0.0,>=1.2.3\n",
      "  Downloading mkdocs-1.4.2-py3-none-any.whl (3.7 MB)\n",
      "     ---------------------------------------- 3.7/3.7 MB 7.5 MB/s eta 0:00:00\n",
      "Collecting pandas==1.2.4\n",
      "  Downloading pandas-1.2.4-cp39-cp39-win_amd64.whl (9.3 MB)\n",
      "     ---------------------------------------- 9.3/9.3 MB 7.1 MB/s eta 0:00:00\n",
      "Collecting click==8.0.3\n",
      "  Downloading click-8.0.3-py3-none-any.whl (97 kB)\n",
      "     ---------------------------------------- 97.5/97.5 kB 5.5 MB/s eta 0:00:00\n",
      "Requirement already satisfied: importlib-metadata<5.0.0,>=4.11.3 in c:\\users\\thiag\\anaconda3\\lib\\site-packages (from basedosdados) (4.11.3)\n",
      "Collecting mkdocs-material<9.0.0,>=8.2.7\n",
      "  Downloading mkdocs_material-8.5.10-py3-none-any.whl (7.5 MB)\n",
      "     ---------------------------------------- 7.5/7.5 MB 7.3 MB/s eta 0:00:00\n",
      "Collecting google-cloud-storage==1.42.3\n",
      "  Downloading google_cloud_storage-1.42.3-py2.py3-none-any.whl (105 kB)\n",
      "     -------------------------------------- 106.0/106.0 kB 3.0 MB/s eta 0:00:00\n",
      "Collecting Jinja2==3.0.3\n",
      "  Downloading Jinja2-3.0.3-py3-none-any.whl (133 kB)\n",
      "     -------------------------------------- 133.6/133.6 kB 8.2 MB/s eta 0:00:00\n",
      "Collecting ruamel.yaml==0.17.10\n",
      "  Downloading ruamel.yaml-0.17.10-py3-none-any.whl (108 kB)\n",
      "     -------------------------------------- 108.4/108.4 kB 3.1 MB/s eta 0:00:00\n",
      "Requirement already satisfied: pathspec<1,>=0.6 in c:\\users\\thiag\\anaconda3\\lib\\site-packages (from black==20.8b1->basedosdados) (0.9.0)\n",
      "Collecting typed-ast>=1.4.0\n",
      "  Downloading typed_ast-1.5.4-cp39-cp39-win_amd64.whl (162 kB)\n",
      "     -------------------------------------- 162.9/162.9 kB 9.5 MB/s eta 0:00:00\n",
      "Requirement already satisfied: typing-extensions>=3.7.4 in c:\\users\\thiag\\anaconda3\\lib\\site-packages (from black==20.8b1->basedosdados) (4.3.0)\n",
      "Requirement already satisfied: appdirs in c:\\users\\thiag\\anaconda3\\lib\\site-packages (from black==20.8b1->basedosdados) (1.4.4)\n",
      "Requirement already satisfied: regex>=2020.1.8 in c:\\users\\thiag\\anaconda3\\lib\\site-packages (from black==20.8b1->basedosdados) (2022.7.9)\n",
      "Requirement already satisfied: mypy-extensions>=0.4.3 in c:\\users\\thiag\\anaconda3\\lib\\site-packages (from black==20.8b1->basedosdados) (0.4.3)\n",
      "Requirement already satisfied: setuptools in c:\\users\\thiag\\anaconda3\\lib\\site-packages (from ckanapi==4.6->basedosdados) (63.4.1)\n",
      "Collecting docopt\n",
      "  Downloading docopt-0.6.2.tar.gz (25 kB)\n",
      "  Preparing metadata (setup.py): started\n",
      "  Preparing metadata (setup.py): finished with status 'done'\n",
      "Requirement already satisfied: requests in c:\\users\\thiag\\anaconda3\\lib\\site-packages (from ckanapi==4.6->basedosdados) (2.28.1)\n",
      "Requirement already satisfied: python-slugify>=1.0 in c:\\users\\thiag\\anaconda3\\lib\\site-packages (from ckanapi==4.6->basedosdados) (5.0.2)\n",
      "Requirement already satisfied: six<2.0,>=1.9 in c:\\users\\thiag\\anaconda3\\lib\\site-packages (from ckanapi==4.6->basedosdados) (1.16.0)\n",
      "Requirement already satisfied: colorama in c:\\users\\thiag\\anaconda3\\lib\\site-packages (from click==8.0.3->basedosdados) (0.4.5)\n",
      "Collecting google-cloud-core<3.0.0dev,>=1.4.1\n",
      "  Downloading google_cloud_core-2.3.2-py2.py3-none-any.whl (29 kB)\n",
      "Collecting google-api-core[grpc]<3.0.0dev,>=1.29.0\n",
      "  Downloading google_api_core-2.10.2-py3-none-any.whl (115 kB)\n",
      "     -------------------------------------- 115.6/115.6 kB 6.6 MB/s eta 0:00:00\n",
      "Requirement already satisfied: packaging>=14.3 in c:\\users\\thiag\\anaconda3\\lib\\site-packages (from google-cloud-bigquery==2.30.1->basedosdados) (21.3)\n",
      "Collecting proto-plus>=1.10.0\n",
      "  Downloading proto_plus-1.22.1-py3-none-any.whl (47 kB)\n",
      "     ---------------------------------------- 47.9/47.9 kB 2.4 MB/s eta 0:00:00\n",
      "Collecting protobuf>=3.12.0\n",
      "  Downloading protobuf-4.21.9-cp39-cp39-win_amd64.whl (525 kB)\n",
      "     -------------------------------------- 525.5/525.5 kB 6.6 MB/s eta 0:00:00\n",
      "Requirement already satisfied: python-dateutil<3.0dev,>=2.7.2 in c:\\users\\thiag\\anaconda3\\lib\\site-packages (from google-cloud-bigquery==2.30.1->basedosdados) (2.8.2)\n",
      "Collecting grpcio<2.0dev,>=1.38.1\n",
      "  Downloading grpcio-1.50.0-cp39-cp39-win_amd64.whl (3.7 MB)\n",
      "     ---------------------------------------- 3.7/3.7 MB 6.1 MB/s eta 0:00:00\n",
      "Collecting google-resumable-media<3.0dev,>=0.6.0\n",
      "  Downloading google_resumable_media-2.4.0-py2.py3-none-any.whl (77 kB)\n",
      "     ---------------------------------------- 77.4/77.4 kB 4.2 MB/s eta 0:00:00\n",
      "Collecting google-api-core[grpc]<3.0.0dev,>=1.29.0\n",
      "  Downloading google_api_core-1.33.2-py3-none-any.whl (115 kB)\n",
      "     -------------------------------------- 115.5/115.5 kB 6.6 MB/s eta 0:00:00\n",
      "Collecting google-auth<3.0dev,>=1.25.0\n",
      "  Downloading google_auth-2.14.1-py2.py3-none-any.whl (175 kB)\n",
      "     -------------------------------------- 175.4/175.4 kB 5.3 MB/s eta 0:00:00\n",
      "Requirement already satisfied: jupyter-client in c:\\users\\thiag\\anaconda3\\lib\\site-packages (from ipykernel==5.3.4->basedosdados) (7.3.4)\n",
      "Requirement already satisfied: ipython>=5.0.0 in c:\\users\\thiag\\anaconda3\\lib\\site-packages (from ipykernel==5.3.4->basedosdados) (7.31.1)\n",
      "Requirement already satisfied: tornado>=4.2 in c:\\users\\thiag\\anaconda3\\lib\\site-packages (from ipykernel==5.3.4->basedosdados) (6.1)\n",
      "Requirement already satisfied: traitlets>=4.1.0 in c:\\users\\thiag\\anaconda3\\lib\\site-packages (from ipykernel==5.3.4->basedosdados) (5.1.1)\n",
      "Requirement already satisfied: MarkupSafe>=2.0 in c:\\users\\thiag\\anaconda3\\lib\\site-packages (from Jinja2==3.0.3->basedosdados) (2.0.1)\n",
      "Requirement already satisfied: pytz>=2017.3 in c:\\users\\thiag\\anaconda3\\lib\\site-packages (from pandas==1.2.4->basedosdados) (2022.1)\n",
      "Requirement already satisfied: numpy>=1.16.5 in c:\\users\\thiag\\anaconda3\\lib\\site-packages (from pandas==1.2.4->basedosdados) (1.21.5)\n",
      "Requirement already satisfied: PyYAML in c:\\users\\thiag\\anaconda3\\lib\\site-packages (from pyaml==20.4.0->basedosdados) (6.0)\n",
      "Requirement already satisfied: py>=1.8.2 in c:\\users\\thiag\\anaconda3\\lib\\site-packages (from pytest==6.0.2->basedosdados) (1.11.0)\n",
      "Requirement already satisfied: attrs>=17.4.0 in c:\\users\\thiag\\anaconda3\\lib\\site-packages (from pytest==6.0.2->basedosdados) (21.4.0)\n",
      "Requirement already satisfied: iniconfig in c:\\users\\thiag\\anaconda3\\lib\\site-packages (from pytest==6.0.2->basedosdados) (1.1.1)\n",
      "Collecting pluggy<1.0,>=0.12\n",
      "  Downloading pluggy-0.13.1-py2.py3-none-any.whl (18 kB)\n",
      "Collecting more-itertools>=4.0.0\n",
      "  Downloading more_itertools-9.0.0-py3-none-any.whl (52 kB)\n",
      "     ---------------------------------------- 52.8/52.8 kB 2.8 MB/s eta 0:00:00\n",
      "Requirement already satisfied: atomicwrites>=1.0 in c:\\users\\thiag\\anaconda3\\lib\\site-packages (from pytest==6.0.2->basedosdados) (1.4.0)\n",
      "Collecting ruamel.yaml.clib>=0.1.2\n",
      "  Downloading ruamel.yaml.clib-0.2.7-cp39-cp39-win_amd64.whl (118 kB)\n",
      "     -------------------------------------- 118.4/118.4 kB 3.5 MB/s eta 0:00:00\n",
      "Requirement already satisfied: zipp>=0.5 in c:\\users\\thiag\\anaconda3\\lib\\site-packages (from importlib-metadata<5.0.0,>=4.11.3->basedosdados) (3.8.0)\n",
      "Requirement already satisfied: nbconvert in c:\\users\\thiag\\anaconda3\\lib\\site-packages (from jupyter<2.0.0,>=1.0.0->basedosdados) (6.4.4)\n",
      "Requirement already satisfied: jupyter-console in c:\\users\\thiag\\anaconda3\\lib\\site-packages (from jupyter<2.0.0,>=1.0.0->basedosdados) (6.4.3)\n",
      "Requirement already satisfied: ipywidgets in c:\\users\\thiag\\anaconda3\\lib\\site-packages (from jupyter<2.0.0,>=1.0.0->basedosdados) (7.6.5)\n",
      "Requirement already satisfied: qtconsole in c:\\users\\thiag\\anaconda3\\lib\\site-packages (from jupyter<2.0.0,>=1.0.0->basedosdados) (5.2.2)\n",
      "Requirement already satisfied: notebook in c:\\users\\thiag\\anaconda3\\lib\\site-packages (from jupyter<2.0.0,>=1.0.0->basedosdados) (6.4.12)\n",
      "Collecting win32-setctime>=1.0.0\n",
      "  Downloading win32_setctime-1.1.0-py3-none-any.whl (3.6 kB)\n",
      "Collecting mergedeep>=1.3.4\n",
      "  Downloading mergedeep-1.3.4-py3-none-any.whl (6.4 kB)\n",
      "Collecting ghp-import>=1.0\n",
      "  Downloading ghp_import-2.1.0-py3-none-any.whl (11 kB)\n",
      "Requirement already satisfied: markdown<3.4,>=3.2.1 in c:\\users\\thiag\\anaconda3\\lib\\site-packages (from mkdocs<2.0.0,>=1.2.3->basedosdados) (3.3.4)\n",
      "Collecting pyyaml-env-tag>=0.1\n",
      "  Downloading pyyaml_env_tag-0.1-py3-none-any.whl (3.9 kB)\n",
      "Requirement already satisfied: watchdog>=2.0 in c:\\users\\thiag\\anaconda3\\lib\\site-packages (from mkdocs<2.0.0,>=1.2.3->basedosdados) (2.1.6)\n",
      "Collecting pymdown-extensions>=9.4\n",
      "  Downloading pymdown_extensions-9.8-py3-none-any.whl (218 kB)\n",
      "     -------------------------------------- 218.9/218.9 kB 6.5 MB/s eta 0:00:00\n",
      "Collecting pygments>=2.12\n",
      "  Downloading Pygments-2.13.0-py3-none-any.whl (1.1 MB)\n",
      "     ---------------------------------------- 1.1/1.1 MB 8.7 MB/s eta 0:00:00\n",
      "Collecting mkdocs-material-extensions>=1.1\n",
      "  Downloading mkdocs_material_extensions-1.1-py3-none-any.whl (7.9 kB)\n",
      "Collecting mkdocstrings-python-legacy>=0.2\n",
      "  Downloading mkdocstrings_python_legacy-0.2.3-py3-none-any.whl (26 kB)\n",
      "Collecting mkdocs-autorefs>=0.3.1\n",
      "  Downloading mkdocs_autorefs-0.4.1-py3-none-any.whl (9.8 kB)\n",
      "Collecting db-dtypes<2.0.0,>=0.3.1\n",
      "  Downloading db_dtypes-1.0.4-py2.py3-none-any.whl (14 kB)\n",
      "Collecting google-auth-oauthlib>=0.0.1\n",
      "  Downloading google_auth_oauthlib-0.7.1-py2.py3-none-any.whl (19 kB)\n",
      "Collecting pydata-google-auth\n",
      "  Downloading pydata_google_auth-1.4.0-py2.py3-none-any.whl (14 kB)\n",
      "Collecting fastavro==1.5.1\n",
      "  Downloading fastavro-1.5.1-cp39-cp39-win_amd64.whl (435 kB)\n",
      "     -------------------------------------- 435.4/435.4 kB 9.0 MB/s eta 0:00:00\n",
      "Collecting googleapis-common-protos<2.0dev,>=1.56.2\n",
      "  Downloading googleapis_common_protos-1.57.0-py2.py3-none-any.whl (217 kB)\n",
      "     -------------------------------------- 218.0/218.0 kB 6.7 MB/s eta 0:00:00\n",
      "Collecting protobuf>=3.12.0\n",
      "  Downloading protobuf-3.20.3-cp39-cp39-win_amd64.whl (904 kB)\n",
      "     -------------------------------------- 904.2/904.2 kB 8.2 MB/s eta 0:00:00\n",
      "Collecting grpcio-status<2.0dev,>=1.33.2\n",
      "  Downloading grpcio_status-1.50.0-py3-none-any.whl (14 kB)\n",
      "Requirement already satisfied: pyasn1-modules>=0.2.1 in c:\\users\\thiag\\anaconda3\\lib\\site-packages (from google-auth<3.0dev,>=1.25.0->google-cloud-storage==1.42.3->basedosdados) (0.2.8)\n",
      "Collecting rsa<5,>=3.1.4\n",
      "  Downloading rsa-4.9-py3-none-any.whl (34 kB)\n",
      "Collecting cachetools<6.0,>=2.0.0\n",
      "  Downloading cachetools-5.2.0-py3-none-any.whl (9.3 kB)\n",
      "Collecting requests-oauthlib>=0.7.0\n",
      "  Downloading requests_oauthlib-1.3.1-py2.py3-none-any.whl (23 kB)\n",
      "Collecting google-crc32c<2.0dev,>=1.0\n",
      "  Downloading google_crc32c-1.5.0-cp39-cp39-win_amd64.whl (27 kB)\n",
      "Requirement already satisfied: decorator in c:\\users\\thiag\\anaconda3\\lib\\site-packages (from ipython>=5.0.0->ipykernel==5.3.4->basedosdados) (5.1.1)\n",
      "Requirement already satisfied: pickleshare in c:\\users\\thiag\\anaconda3\\lib\\site-packages (from ipython>=5.0.0->ipykernel==5.3.4->basedosdados) (0.7.5)\n",
      "Requirement already satisfied: matplotlib-inline in c:\\users\\thiag\\anaconda3\\lib\\site-packages (from ipython>=5.0.0->ipykernel==5.3.4->basedosdados) (0.1.6)\n",
      "Requirement already satisfied: prompt-toolkit!=3.0.0,!=3.0.1,<3.1.0,>=2.0.0 in c:\\users\\thiag\\anaconda3\\lib\\site-packages (from ipython>=5.0.0->ipykernel==5.3.4->basedosdados) (3.0.20)\n",
      "Requirement already satisfied: backcall in c:\\users\\thiag\\anaconda3\\lib\\site-packages (from ipython>=5.0.0->ipykernel==5.3.4->basedosdados) (0.2.0)\n",
      "Requirement already satisfied: jedi>=0.16 in c:\\users\\thiag\\anaconda3\\lib\\site-packages (from ipython>=5.0.0->ipykernel==5.3.4->basedosdados) (0.18.1)\n",
      "Collecting mkdocstrings-python-legacy>=0.2\n",
      "  Downloading mkdocstrings_python_legacy-0.2.2-py3-none-any.whl (25 kB)\n",
      "Collecting pytkdocs>=0.14\n",
      "  Downloading pytkdocs-0.16.1-py3-none-any.whl (37 kB)\n",
      "Requirement already satisfied: pyparsing!=3.0.5,>=2.0.2 in c:\\users\\thiag\\anaconda3\\lib\\site-packages (from packaging>=14.3->google-cloud-bigquery==2.30.1->basedosdados) (3.0.9)\n",
      "Requirement already satisfied: text-unidecode>=1.3 in c:\\users\\thiag\\anaconda3\\lib\\site-packages (from python-slugify>=1.0->ckanapi==4.6->basedosdados) (1.3)\n",
      "Requirement already satisfied: idna<4,>=2.5 in c:\\users\\thiag\\anaconda3\\lib\\site-packages (from requests->ckanapi==4.6->basedosdados) (2.10)\n",
      "Requirement already satisfied: charset-normalizer<3,>=2 in c:\\users\\thiag\\anaconda3\\lib\\site-packages (from requests->ckanapi==4.6->basedosdados) (2.0.4)\n",
      "Requirement already satisfied: urllib3<1.27,>=1.21.1 in c:\\users\\thiag\\anaconda3\\lib\\site-packages (from requests->ckanapi==4.6->basedosdados) (1.26.11)\n",
      "Requirement already satisfied: certifi>=2017.4.17 in c:\\users\\thiag\\anaconda3\\lib\\site-packages (from requests->ckanapi==4.6->basedosdados) (2022.9.14)\n",
      "Requirement already satisfied: jupyterlab-widgets>=1.0.0 in c:\\users\\thiag\\anaconda3\\lib\\site-packages (from ipywidgets->jupyter<2.0.0,>=1.0.0->basedosdados) (1.0.0)\n",
      "Requirement already satisfied: ipython-genutils~=0.2.0 in c:\\users\\thiag\\anaconda3\\lib\\site-packages (from ipywidgets->jupyter<2.0.0,>=1.0.0->basedosdados) (0.2.0)\n",
      "Requirement already satisfied: nbformat>=4.2.0 in c:\\users\\thiag\\anaconda3\\lib\\site-packages (from ipywidgets->jupyter<2.0.0,>=1.0.0->basedosdados) (5.5.0)\n",
      "Requirement already satisfied: widgetsnbextension~=3.5.0 in c:\\users\\thiag\\anaconda3\\lib\\site-packages (from ipywidgets->jupyter<2.0.0,>=1.0.0->basedosdados) (3.5.2)\n",
      "Requirement already satisfied: pyzmq>=23.0 in c:\\users\\thiag\\anaconda3\\lib\\site-packages (from jupyter-client->ipykernel==5.3.4->basedosdados) (23.2.0)\n",
      "Requirement already satisfied: nest-asyncio>=1.5.4 in c:\\users\\thiag\\anaconda3\\lib\\site-packages (from jupyter-client->ipykernel==5.3.4->basedosdados) (1.5.5)\n",
      "Requirement already satisfied: jupyter-core>=4.9.2 in c:\\users\\thiag\\anaconda3\\lib\\site-packages (from jupyter-client->ipykernel==5.3.4->basedosdados) (4.11.1)\n",
      "Requirement already satisfied: entrypoints in c:\\users\\thiag\\anaconda3\\lib\\site-packages (from jupyter-client->ipykernel==5.3.4->basedosdados) (0.4)\n",
      "Requirement already satisfied: jupyterlab-pygments in c:\\users\\thiag\\anaconda3\\lib\\site-packages (from nbconvert->jupyter<2.0.0,>=1.0.0->basedosdados) (0.1.2)\n",
      "Requirement already satisfied: pandocfilters>=1.4.1 in c:\\users\\thiag\\anaconda3\\lib\\site-packages (from nbconvert->jupyter<2.0.0,>=1.0.0->basedosdados) (1.5.0)\n",
      "Requirement already satisfied: mistune<2,>=0.8.1 in c:\\users\\thiag\\anaconda3\\lib\\site-packages (from nbconvert->jupyter<2.0.0,>=1.0.0->basedosdados) (0.8.4)\n",
      "Requirement already satisfied: defusedxml in c:\\users\\thiag\\anaconda3\\lib\\site-packages (from nbconvert->jupyter<2.0.0,>=1.0.0->basedosdados) (0.7.1)\n",
      "Requirement already satisfied: beautifulsoup4 in c:\\users\\thiag\\anaconda3\\lib\\site-packages (from nbconvert->jupyter<2.0.0,>=1.0.0->basedosdados) (4.11.1)\n",
      "Requirement already satisfied: testpath in c:\\users\\thiag\\anaconda3\\lib\\site-packages (from nbconvert->jupyter<2.0.0,>=1.0.0->basedosdados) (0.6.0)\n",
      "Requirement already satisfied: bleach in c:\\users\\thiag\\anaconda3\\lib\\site-packages (from nbconvert->jupyter<2.0.0,>=1.0.0->basedosdados) (4.1.0)\n",
      "Requirement already satisfied: nbclient<0.6.0,>=0.5.0 in c:\\users\\thiag\\anaconda3\\lib\\site-packages (from nbconvert->jupyter<2.0.0,>=1.0.0->basedosdados) (0.5.13)\n",
      "Requirement already satisfied: terminado>=0.8.3 in c:\\users\\thiag\\anaconda3\\lib\\site-packages (from notebook->jupyter<2.0.0,>=1.0.0->basedosdados) (0.13.1)\n",
      "Requirement already satisfied: Send2Trash>=1.8.0 in c:\\users\\thiag\\anaconda3\\lib\\site-packages (from notebook->jupyter<2.0.0,>=1.0.0->basedosdados) (1.8.0)\n",
      "Requirement already satisfied: argon2-cffi in c:\\users\\thiag\\anaconda3\\lib\\site-packages (from notebook->jupyter<2.0.0,>=1.0.0->basedosdados) (21.3.0)\n",
      "Requirement already satisfied: prometheus-client in c:\\users\\thiag\\anaconda3\\lib\\site-packages (from notebook->jupyter<2.0.0,>=1.0.0->basedosdados) (0.14.1)\n",
      "Requirement already satisfied: qtpy in c:\\users\\thiag\\anaconda3\\lib\\site-packages (from qtconsole->jupyter<2.0.0,>=1.0.0->basedosdados) (2.2.0)\n",
      "Collecting grpcio-status<2.0dev,>=1.33.2\n",
      "  Downloading grpcio_status-1.49.1-py3-none-any.whl (14 kB)\n",
      "  Downloading grpcio_status-1.48.2-py3-none-any.whl (14 kB)\n",
      "Requirement already satisfied: parso<0.9.0,>=0.8.0 in c:\\users\\thiag\\anaconda3\\lib\\site-packages (from jedi>=0.16->ipython>=5.0.0->ipykernel==5.3.4->basedosdados) (0.8.3)\n",
      "Requirement already satisfied: pywin32>=1.0 in c:\\users\\thiag\\anaconda3\\lib\\site-packages (from jupyter-core>=4.9.2->jupyter-client->ipykernel==5.3.4->basedosdados) (302)\n",
      "Requirement already satisfied: fastjsonschema in c:\\users\\thiag\\anaconda3\\lib\\site-packages (from nbformat>=4.2.0->ipywidgets->jupyter<2.0.0,>=1.0.0->basedosdados) (2.16.2)\n",
      "Requirement already satisfied: jsonschema>=2.6 in c:\\users\\thiag\\anaconda3\\lib\\site-packages (from nbformat>=4.2.0->ipywidgets->jupyter<2.0.0,>=1.0.0->basedosdados) (4.16.0)\n",
      "Requirement already satisfied: wcwidth in c:\\users\\thiag\\anaconda3\\lib\\site-packages (from prompt-toolkit!=3.0.0,!=3.0.1,<3.1.0,>=2.0.0->ipython>=5.0.0->ipykernel==5.3.4->basedosdados) (0.2.5)\n",
      "Requirement already satisfied: pyasn1<0.5.0,>=0.4.6 in c:\\users\\thiag\\anaconda3\\lib\\site-packages (from pyasn1-modules>=0.2.1->google-auth<3.0dev,>=1.25.0->google-cloud-storage==1.42.3->basedosdados) (0.4.8)\n",
      "Collecting oauthlib>=3.0.0\n",
      "  Downloading oauthlib-3.2.2-py3-none-any.whl (151 kB)\n",
      "     -------------------------------------- 151.7/151.7 kB 8.8 MB/s eta 0:00:00\n",
      "Requirement already satisfied: pywinpty>=1.1.0 in c:\\users\\thiag\\anaconda3\\lib\\site-packages (from terminado>=0.8.3->notebook->jupyter<2.0.0,>=1.0.0->basedosdados) (2.0.2)\n",
      "Requirement already satisfied: argon2-cffi-bindings in c:\\users\\thiag\\anaconda3\\lib\\site-packages (from argon2-cffi->notebook->jupyter<2.0.0,>=1.0.0->basedosdados) (21.2.0)\n",
      "Requirement already satisfied: soupsieve>1.2 in c:\\users\\thiag\\anaconda3\\lib\\site-packages (from beautifulsoup4->nbconvert->jupyter<2.0.0,>=1.0.0->basedosdados) (2.3.1)\n",
      "Requirement already satisfied: webencodings in c:\\users\\thiag\\anaconda3\\lib\\site-packages (from bleach->nbconvert->jupyter<2.0.0,>=1.0.0->basedosdados) (0.5.1)\n",
      "Requirement already satisfied: pyrsistent!=0.17.0,!=0.17.1,!=0.17.2,>=0.14.0 in c:\\users\\thiag\\anaconda3\\lib\\site-packages (from jsonschema>=2.6->nbformat>=4.2.0->ipywidgets->jupyter<2.0.0,>=1.0.0->basedosdados) (0.18.0)\n",
      "Requirement already satisfied: cffi>=1.0.1 in c:\\users\\thiag\\anaconda3\\lib\\site-packages (from argon2-cffi-bindings->argon2-cffi->notebook->jupyter<2.0.0,>=1.0.0->basedosdados) (1.15.1)\n",
      "Requirement already satisfied: pycparser in c:\\users\\thiag\\anaconda3\\lib\\site-packages (from cffi>=1.0.1->argon2-cffi-bindings->argon2-cffi->notebook->jupyter<2.0.0,>=1.0.0->basedosdados) (2.21)\n",
      "Building wheels for collected packages: black, ckanapi, pandavro, docopt\n",
      "  Building wheel for black (pyproject.toml): started\n",
      "  Building wheel for black (pyproject.toml): finished with status 'done'\n",
      "  Created wheel for black: filename=black-20.8b1-py3-none-any.whl size=124301 sha256=78f93266a11925b9ade81b86df2308157d02e7dd272d6c358407648b3e225386\n",
      "  Stored in directory: c:\\users\\thiag\\appdata\\local\\pip\\cache\\wheels\\4e\\57\\9a\\e704bdd859ee892dc46fff03fd499422dc9e99fd9bd5c446d3\n",
      "  Building wheel for ckanapi (setup.py): started\n",
      "  Building wheel for ckanapi (setup.py): finished with status 'done'\n",
      "  Created wheel for ckanapi: filename=ckanapi-4.6-py3-none-any.whl size=40683 sha256=2ead6addd3c485f6e9cbf3575ce0276879d471a71ffe340f362b08191c3b3690\n",
      "  Stored in directory: c:\\users\\thiag\\appdata\\local\\pip\\cache\\wheels\\93\\0a\\67\\2d0a343e082fb1b1f2809ddc5ada0c528dbda0bd90a0233e98\n",
      "  Building wheel for pandavro (setup.py): started\n",
      "  Building wheel for pandavro (setup.py): finished with status 'done'\n",
      "  Created wheel for pandavro: filename=pandavro-1.7.1-py3-none-any.whl size=5670 sha256=c1d5f94eac2f2dd6af7264a83def14a172cb425a647796fd9e9f2913d0471072\n",
      "  Stored in directory: c:\\users\\thiag\\appdata\\local\\pip\\cache\\wheels\\45\\12\\aa\\aa640f089d2d14477165fe23e5310f4b219ecd5ae87ff6ca74\n",
      "  Building wheel for docopt (setup.py): started\n",
      "  Building wheel for docopt (setup.py): finished with status 'done'\n",
      "  Created wheel for docopt: filename=docopt-0.6.2-py2.py3-none-any.whl size=13706 sha256=33ebb6c54f1a6d74262049d89295ce45d76e4072f17017d17d8a78d18b89a358\n",
      "  Stored in directory: c:\\users\\thiag\\appdata\\local\\pip\\cache\\wheels\\70\\4a\\46\\1309fc853b8d395e60bafaf1b6df7845bdd82c95fd59dd8d2b\n",
      "Successfully built black ckanapi pandavro docopt\n",
      "Installing collected packages: docopt, win32-setctime, typed-ast, tqdm, tomlkit, ruamel.yaml.clib, rsa, pyyaml-env-tag, pytkdocs, pymdown-extensions, pygments, pyarrow, pyaml, protobuf, pluggy, oauthlib, more-itertools, mkdocs-material-extensions, mergedeep, Jinja2, grpcio, google-crc32c, fastavro, click, cachetools, ruamel.yaml, requests-oauthlib, pytest, proto-plus, pandas, mkdocs-click, loguru, googleapis-common-protos, google-resumable-media, google-auth, ghp-import, ckanapi, black, pandavro, mkdocs, ipykernel, grpcio-status, google-auth-oauthlib, google-api-core, db-dtypes, pydata-google-auth, mkdocs-material, mkdocs-autorefs, google-cloud-core, google-cloud-storage, google-cloud-bigquery-storage, google-cloud-bigquery, pandas-gbq, mkdocstrings-python-legacy, mkdocstrings, basedosdados\n",
      "  Attempting uninstall: tqdm\n",
      "    Found existing installation: tqdm 4.64.1\n",
      "    Uninstalling tqdm-4.64.1:\n",
      "      Successfully uninstalled tqdm-4.64.1\n",
      "  Attempting uninstall: tomlkit\n",
      "    Found existing installation: tomlkit 0.11.1\n",
      "    Uninstalling tomlkit-0.11.1:\n",
      "      Successfully uninstalled tomlkit-0.11.1\n",
      "  Attempting uninstall: pygments\n",
      "    Found existing installation: Pygments 2.11.2\n",
      "    Uninstalling Pygments-2.11.2:\n",
      "      Successfully uninstalled Pygments-2.11.2\n",
      "  Attempting uninstall: pluggy\n",
      "    Found existing installation: pluggy 1.0.0\n",
      "    Uninstalling pluggy-1.0.0:\n",
      "      Successfully uninstalled pluggy-1.0.0\n",
      "  Attempting uninstall: Jinja2\n",
      "    Found existing installation: Jinja2 2.11.3\n",
      "    Uninstalling Jinja2-2.11.3:\n",
      "      Successfully uninstalled Jinja2-2.11.3\n",
      "  Attempting uninstall: click\n",
      "    Found existing installation: click 8.0.4\n",
      "    Uninstalling click-8.0.4:\n",
      "      Successfully uninstalled click-8.0.4\n",
      "  Attempting uninstall: pytest\n",
      "    Found existing installation: pytest 7.1.2\n",
      "    Uninstalling pytest-7.1.2:\n",
      "      Successfully uninstalled pytest-7.1.2\n",
      "  Attempting uninstall: pandas\n",
      "    Found existing installation: pandas 1.4.4\n",
      "    Uninstalling pandas-1.4.4:\n",
      "      Successfully uninstalled pandas-1.4.4\n",
      "  Attempting uninstall: black\n",
      "    Found existing installation: black 22.6.0\n",
      "    Uninstalling black-22.6.0:\n",
      "      Successfully uninstalled black-22.6.0\n",
      "  Attempting uninstall: ipykernel\n",
      "    Found existing installation: ipykernel 6.15.2\n",
      "    Uninstalling ipykernel-6.15.2:\n",
      "      Successfully uninstalled ipykernel-6.15.2\n",
      "Successfully installed Jinja2-3.0.3 basedosdados-1.6.8 black-20.8b1 cachetools-5.2.0 ckanapi-4.6 click-8.0.3 db-dtypes-1.0.4 docopt-0.6.2 fastavro-1.5.1 ghp-import-2.1.0 google-api-core-1.33.2 google-auth-2.14.1 google-auth-oauthlib-0.7.1 google-cloud-bigquery-2.30.1 google-cloud-bigquery-storage-1.1.0 google-cloud-core-2.3.2 google-cloud-storage-1.42.3 google-crc32c-1.5.0 google-resumable-media-2.4.0 googleapis-common-protos-1.57.0 grpcio-1.50.0 grpcio-status-1.48.2 ipykernel-5.3.4 loguru-0.6.0 mergedeep-1.3.4 mkdocs-1.4.2 mkdocs-autorefs-0.4.1 mkdocs-click-0.5.0 mkdocs-material-8.5.10 mkdocs-material-extensions-1.1 mkdocstrings-0.18.1 mkdocstrings-python-legacy-0.2.2 more-itertools-9.0.0 oauthlib-3.2.2 pandas-1.2.4 pandas-gbq-0.17.9 pandavro-1.7.1 pluggy-0.13.1 proto-plus-1.22.1 protobuf-3.20.3 pyaml-20.4.0 pyarrow-6.0.0 pydata-google-auth-1.4.0 pygments-2.13.0 pymdown-extensions-9.8 pytest-6.0.2 pytkdocs-0.16.1 pyyaml-env-tag-0.1 requests-oauthlib-1.3.1 rsa-4.9 ruamel.yaml-0.17.10 ruamel.yaml.clib-0.2.7 tomlkit-0.7.0 tqdm-4.50.2 typed-ast-1.5.4 win32-setctime-1.1.0\n"
     ]
    }
   ],
   "source": [
    "!pip install basedosdados\n",
    "import basedosdados as bd\n",
    "\n"
   ]
  },
  {
   "cell_type": "code",
   "execution_count": 10,
   "id": "b49c4d45",
   "metadata": {},
   "outputs": [
    {
     "name": "stderr",
     "output_type": "stream",
     "text": [
      "Downloading: 100%|█████████████████████████████████████████████████████████| 158418/158418 [00:47<00:00, 3345.72rows/s]\n"
     ]
    }
   ],
   "source": [
    "# Para carregar o dado direto no pandas\n",
    "df = bd.read_table(dataset_id='br_poder360_pesquisas',\n",
    "table_id='microdados',\n",
    "billing_project_id=\"eleicoesbanco\")\n",
    "\n",
    "\n"
   ]
  },
  {
   "cell_type": "code",
   "execution_count": 18,
   "id": "6960e055",
   "metadata": {},
   "outputs": [],
   "source": [
    "pesquisas = df[(df.instituto == 'Datafolha') & (df.ano == 2022) & (df.cargo == 'presidente') & (df.sigla_uf.isnull()) & (df.tipo == 'estimulada') & (df.turno == 1) & (df.descricao_cenario.str.contains('cenário 1')==True) & ((df.nome_candidato == 'Lula') | (df.nome_candidato == 'Bolsonaro') | (df.nome_candidato == 'Ciro') | (df.nome_candidato == 'Simone Tebet'))].sort_values(by='data')\n",
    "pesquisas.to_excel('pesquisas.xlsx', index=False)"
   ]
  }
 ],
 "metadata": {
  "kernelspec": {
   "display_name": "Python 3",
   "language": "python",
   "name": "python3"
  },
  "language_info": {
   "codemirror_mode": {
    "name": "ipython",
    "version": 3
   },
   "file_extension": ".py",
   "mimetype": "text/x-python",
   "name": "python",
   "nbconvert_exporter": "python",
   "pygments_lexer": "ipython3",
   "version": "3.9.13"
  }
 },
 "nbformat": 4,
 "nbformat_minor": 5
}
